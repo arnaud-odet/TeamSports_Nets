{
 "cells": [
  {
   "cell_type": "code",
   "execution_count": 21,
   "metadata": {},
   "outputs": [
    {
     "ename": "ImportError",
     "evalue": "cannot import name 'plot_field' from 'ts_nets.utils.plots' (/home/admin/code/arnaud-odet/7_PhD/TeamSports_Nets/ts_nets/utils/plots.py)",
     "output_type": "error",
     "traceback": [
      "\u001b[0;31m---------------------------------------------------------------------------\u001b[0m",
      "\u001b[0;31mImportError\u001b[0m                               Traceback (most recent call last)",
      "Cell \u001b[0;32mIn[21], line 10\u001b[0m\n\u001b[1;32m      7\u001b[0m \u001b[38;5;28;01mimport\u001b[39;00m\u001b[38;5;250m \u001b[39m\u001b[38;5;21;01mos\u001b[39;00m\n\u001b[1;32m      9\u001b[0m \u001b[38;5;28;01mfrom\u001b[39;00m\u001b[38;5;250m \u001b[39m\u001b[38;5;21;01mts_nets\u001b[39;00m\u001b[38;5;21;01m.\u001b[39;00m\u001b[38;5;21;01mgraphs\u001b[39;00m\u001b[38;5;21;01m.\u001b[39;00m\u001b[38;5;21;01mloader\u001b[39;00m\u001b[38;5;250m \u001b[39m\u001b[38;5;28;01mimport\u001b[39;00m GraphDataset\n\u001b[0;32m---> 10\u001b[0m \u001b[38;5;28;01mfrom\u001b[39;00m\u001b[38;5;250m \u001b[39m\u001b[38;5;21;01mts_nets\u001b[39;00m\u001b[38;5;21;01m.\u001b[39;00m\u001b[38;5;21;01mutils\u001b[39;00m\u001b[38;5;21;01m.\u001b[39;00m\u001b[38;5;21;01mplots\u001b[39;00m\u001b[38;5;250m \u001b[39m\u001b[38;5;28;01mimport\u001b[39;00m plot_field\n\u001b[1;32m     12\u001b[0m get_ipython()\u001b[38;5;241m.\u001b[39mrun_line_magic(\u001b[38;5;124m'\u001b[39m\u001b[38;5;124mreload_ext\u001b[39m\u001b[38;5;124m'\u001b[39m, \u001b[38;5;124m'\u001b[39m\u001b[38;5;124mautoreload\u001b[39m\u001b[38;5;124m'\u001b[39m)\n\u001b[1;32m     13\u001b[0m get_ipython()\u001b[38;5;241m.\u001b[39mrun_line_magic(\u001b[38;5;124m'\u001b[39m\u001b[38;5;124mautoreload\u001b[39m\u001b[38;5;124m'\u001b[39m, \u001b[38;5;124m'\u001b[39m\u001b[38;5;124m2\u001b[39m\u001b[38;5;124m'\u001b[39m)\n",
      "\u001b[0;31mImportError\u001b[0m: cannot import name 'plot_field' from 'ts_nets.utils.plots' (/home/admin/code/arnaud-odet/7_PhD/TeamSports_Nets/ts_nets/utils/plots.py)"
     ]
    }
   ],
   "source": [
    "import pandas as pd \n",
    "import numpy as np\n",
    "import matplotlib.pyplot as plt\n",
    "import seaborn as sns\n",
    "from pathlib import Path\n",
    "import torch\n",
    "import os\n",
    "\n",
    "from ts_nets.graphs.loader import GraphDataset\n",
    "from ts_nets.utils.plots import plot_field\n",
    "\n",
    "%reload_ext autoreload\n",
    "%autoreload 2"
   ]
  },
  {
   "cell_type": "markdown",
   "metadata": {},
   "source": [
    "# Args\n"
   ]
  },
  {
   "cell_type": "code",
   "execution_count": null,
   "metadata": {},
   "outputs": [],
   "source": [
    "import argparse\n",
    "\n",
    "parser = argparse.ArgumentParser()\n",
    "true_list = ['true', 'yes', 't', 'y', '1']\n",
    "\n",
    "# Data\n",
    "parser.add_argument('--seq_len', type=int, default=32, help='input sequence length')\n",
    "parser.add_argument('--pred_len', type=int, default=32, help='prediction sequence length')\n",
    "parser.add_argument('--offense_only', default=False, action = 'store_true', help='use only offenseive actions')\n",
    "\n",
    "# DataLoader \n",
    "parser.add_argument('--batch_size', type=int, default=64) \n",
    "parser.add_argument('--shuffle', type=lambda x: x.lower() in true_list, default=True, help='Shuffle (default: True)')\n",
    "parser.add_argument('--num_workers', type=int, default=8) \n",
    "parser.add_argument('--prefetch_factor', type=int, default=2) \n",
    "parser.add_argument('--persistent_workers', type=lambda x: x.lower() in true_list, default=True, help='Persistent Workers (default: True)')\n",
    "parser.add_argument('--pin_memory', type=lambda x: x.lower() in true_list, default=True, help='Pin Memory (default: True)')\n",
    "parser.add_argument('--drop_last', type=lambda x: x.lower() in true_list, default=True, help='Drop Last (default: True)')\n",
    "\n",
    "# Fit arguments\n",
    "\n",
    "\n",
    "# Empty list uses default arguments\n",
    "args = parser.parse_args(['--offense_only'])"
   ]
  },
  {
   "cell_type": "code",
   "execution_count": 20,
   "metadata": {},
   "outputs": [
    {
     "data": {
      "text/plain": [
       "(32, True)"
      ]
     },
     "execution_count": 20,
     "metadata": {},
     "output_type": "execute_result"
    }
   ],
   "source": [
    "args.pred_len, args.drop_last"
   ]
  },
  {
   "cell_type": "markdown",
   "metadata": {},
   "source": [
    "# Graph Loader"
   ]
  },
  {
   "cell_type": "code",
   "execution_count": null,
   "metadata": {},
   "outputs": [],
   "source": [
    "gd = GraphDataset(args)\n",
    "gd.data_x.shape, gd.data_y.shape"
   ]
  }
 ],
 "metadata": {
  "kernelspec": {
   "display_name": "graph_env",
   "language": "python",
   "name": "python3"
  },
  "language_info": {
   "codemirror_mode": {
    "name": "ipython",
    "version": 3
   },
   "file_extension": ".py",
   "mimetype": "text/x-python",
   "name": "python",
   "nbconvert_exporter": "python",
   "pygments_lexer": "ipython3",
   "version": "3.10.6"
  }
 },
 "nbformat": 4,
 "nbformat_minor": 2
}
